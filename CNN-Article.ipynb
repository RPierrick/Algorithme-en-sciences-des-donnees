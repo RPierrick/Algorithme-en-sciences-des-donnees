{
 "cells": [
  {
   "cell_type": "markdown",
   "metadata": {},
   "source": [
    "# Notebook relatif à l'article \"Real-Time Seamless Single Shot 6D Object Pose Prediction\"#\n",
    "\n",
    "Par Simon HERBECQ et Pierrick HAUMESSER\n",
    "\n",
    "Dans ce notebook, on se propose de reproduire les expériences faites par l'équipe de rechercher relative à cet article.\n"
   ]
  },
  {
   "cell_type": "markdown",
   "metadata": {},
   "source": [
    "On va"
   ]
  },
  {
   "cell_type": "code",
   "execution_count": 1,
   "metadata": {},
   "outputs": [],
   "source": [
    "#Import des bibliothèques utilent : \n",
    "\n",
    "import tensorflow as tf\n",
    "from tensorflow.keras import layers, models\n",
    "import cv2\n",
    "import seaborn as sns\n",
    "import matplotlib.pyplot as plt\n",
    "import pandas as pd\n",
    "import os\n",
    "import numpy as np"
   ]
  },
  {
   "cell_type": "markdown",
   "metadata": {},
   "source": [
    "### Création du modèle ###"
   ]
  },
  {
   "cell_type": "code",
   "execution_count": 2,
   "metadata": {},
   "outputs": [],
   "source": [
    "#Code du CNN : \n",
    "\n",
    "C = 8 #Nombre de classe à prédire\n",
    "\n",
    "model = models.Sequential()\n",
    "model.add(layers.Conv2D(32,(3,3),activation = 'relu',input_shape=(416,416,3)))\n",
    "model.add(layers.MaxPooling2D((2,2)))\n",
    "model.add(layers.Conv2D(64,(3,3),activation = 'relu'))\n",
    "model.add(layers.MaxPooling2D((2,2)))\n",
    "model.add(layers.Conv2D(128,(3,3),activation = 'relu'))\n",
    "model.add(layers.MaxPooling2D((2,2)))\n",
    "model.add(layers.Conv2D(256,(3,3),activation = 'relu'))\n",
    "model.add(layers.MaxPooling2D((2,2)))\n",
    "model.add(layers.Conv2D(512,(3,3),activation = 'relu'))\n",
    "model.add(layers.MaxPooling2D((2,2)))\n",
    "model.add(layers.Conv2D(1024,(3,3),activation = 'relu'))\n",
    "model.add(layers.Conv2D(1024,(3,3),activation = 'relu'))\n",
    "model.add(layers.Conv2D((9*2+1+C),(1,1),activation = 'relu'))"
   ]
  },
  {
   "cell_type": "code",
   "execution_count": 3,
   "metadata": {},
   "outputs": [
    {
     "name": "stdout",
     "output_type": "stream",
     "text": [
      "Model: \"sequential\"\n",
      "_________________________________________________________________\n",
      "Layer (type)                 Output Shape              Param #   \n",
      "=================================================================\n",
      "conv2d (Conv2D)              (None, 414, 414, 32)      896       \n",
      "_________________________________________________________________\n",
      "max_pooling2d (MaxPooling2D) (None, 207, 207, 32)      0         \n",
      "_________________________________________________________________\n",
      "conv2d_1 (Conv2D)            (None, 205, 205, 64)      18496     \n",
      "_________________________________________________________________\n",
      "max_pooling2d_1 (MaxPooling2 (None, 102, 102, 64)      0         \n",
      "_________________________________________________________________\n",
      "conv2d_2 (Conv2D)            (None, 100, 100, 128)     73856     \n",
      "_________________________________________________________________\n",
      "max_pooling2d_2 (MaxPooling2 (None, 50, 50, 128)       0         \n",
      "_________________________________________________________________\n",
      "conv2d_3 (Conv2D)            (None, 48, 48, 256)       295168    \n",
      "_________________________________________________________________\n",
      "max_pooling2d_3 (MaxPooling2 (None, 24, 24, 256)       0         \n",
      "_________________________________________________________________\n",
      "conv2d_4 (Conv2D)            (None, 22, 22, 512)       1180160   \n",
      "_________________________________________________________________\n",
      "max_pooling2d_4 (MaxPooling2 (None, 11, 11, 512)       0         \n",
      "_________________________________________________________________\n",
      "conv2d_5 (Conv2D)            (None, 9, 9, 1024)        4719616   \n",
      "_________________________________________________________________\n",
      "conv2d_6 (Conv2D)            (None, 7, 7, 1024)        9438208   \n",
      "_________________________________________________________________\n",
      "conv2d_7 (Conv2D)            (None, 7, 7, 27)          27675     \n",
      "=================================================================\n",
      "Total params: 15,754,075\n",
      "Trainable params: 15,754,075\n",
      "Non-trainable params: 0\n",
      "_________________________________________________________________\n"
     ]
    }
   ],
   "source": [
    "#On fait un résumer du CNN \n",
    "\n",
    "model.summary()"
   ]
  },
  {
   "cell_type": "markdown",
   "metadata": {},
   "source": [
    "Pour pouvoir faire des prédictions, on ajoute des couches denses :"
   ]
  },
  {
   "cell_type": "code",
   "execution_count": 3,
   "metadata": {},
   "outputs": [],
   "source": [
    "model.add(layers.Flatten())\n",
    "model.add(layers.Dense(units = 8, activation = 'softmax'))"
   ]
  },
  {
   "cell_type": "code",
   "execution_count": 4,
   "metadata": {},
   "outputs": [
    {
     "name": "stdout",
     "output_type": "stream",
     "text": [
      "Model: \"sequential\"\n",
      "_________________________________________________________________\n",
      "Layer (type)                 Output Shape              Param #   \n",
      "=================================================================\n",
      "conv2d (Conv2D)              (None, 414, 414, 32)      896       \n",
      "_________________________________________________________________\n",
      "max_pooling2d (MaxPooling2D) (None, 207, 207, 32)      0         \n",
      "_________________________________________________________________\n",
      "conv2d_1 (Conv2D)            (None, 205, 205, 64)      18496     \n",
      "_________________________________________________________________\n",
      "max_pooling2d_1 (MaxPooling2 (None, 102, 102, 64)      0         \n",
      "_________________________________________________________________\n",
      "conv2d_2 (Conv2D)            (None, 100, 100, 128)     73856     \n",
      "_________________________________________________________________\n",
      "max_pooling2d_2 (MaxPooling2 (None, 50, 50, 128)       0         \n",
      "_________________________________________________________________\n",
      "conv2d_3 (Conv2D)            (None, 48, 48, 256)       295168    \n",
      "_________________________________________________________________\n",
      "max_pooling2d_3 (MaxPooling2 (None, 24, 24, 256)       0         \n",
      "_________________________________________________________________\n",
      "conv2d_4 (Conv2D)            (None, 22, 22, 512)       1180160   \n",
      "_________________________________________________________________\n",
      "max_pooling2d_4 (MaxPooling2 (None, 11, 11, 512)       0         \n",
      "_________________________________________________________________\n",
      "conv2d_5 (Conv2D)            (None, 9, 9, 1024)        4719616   \n",
      "_________________________________________________________________\n",
      "conv2d_6 (Conv2D)            (None, 7, 7, 1024)        9438208   \n",
      "_________________________________________________________________\n",
      "conv2d_7 (Conv2D)            (None, 7, 7, 27)          27675     \n",
      "_________________________________________________________________\n",
      "flatten (Flatten)            (None, 1323)              0         \n",
      "_________________________________________________________________\n",
      "dense (Dense)                (None, 8)                 10592     \n",
      "=================================================================\n",
      "Total params: 15,764,667\n",
      "Trainable params: 15,764,667\n",
      "Non-trainable params: 0\n",
      "_________________________________________________________________\n"
     ]
    }
   ],
   "source": [
    "model.summary()"
   ]
  },
  {
   "cell_type": "code",
   "execution_count": 5,
   "metadata": {},
   "outputs": [],
   "source": [
    "#On compile le modèle : \n",
    "\n",
    "model.compile(optimizer='adam',\n",
    "              loss=tf.keras.losses.CategoricalCrossentropy(),\n",
    "              metrics=['accuracy'])"
   ]
  },
  {
   "cell_type": "markdown",
   "metadata": {},
   "source": [
    "### Preprocessing des datas ###\n",
    "\n",
    "Le dataset \"OCCLUSION\" contient des images de 8 objets : \n",
    "- Bakingpan (plaque de cuisson)\n",
    "- Pitcher (cruche)\n",
    "- Shaker \n",
    "- Scissors (cisseaux)\n",
    "- Thermos \n",
    "- Colander (passoir)\n",
    "- Saucepan (casserole)\n",
    "- Cup (tasse)"
   ]
  },
  {
   "cell_type": "markdown",
   "metadata": {},
   "source": [
    "#### Exemple de la réduction d'une image ####\n",
    "\n",
    "On veut mettre les images au format 416x416, qui est la taille d'entrée du CNN :"
   ]
  },
  {
   "cell_type": "code",
   "execution_count": 6,
   "metadata": {},
   "outputs": [
    {
     "data": {
      "image/png": "[encoded data removed]",
      "text/plain": [
       "<Figure size 432x288 with 1 Axes>"
      ]
     },
     "metadata": {},
     "output_type": "display_data"
    }
   ],
   "source": [
    "#Loading d'une image\n",
    "\n",
    "sns.set(color_codes = True)\n",
    "image = cv2.imread('/home/pierrick/Datasets/OCCLUSION/CMU_KO8/single/train/bakingpan/bakingpan.jpg')\n",
    "plt.imshow(cv2.cvtColor(image,cv2.COLOR_BGR2RGB))\n",
    "plt.show()"
   ]
  },
  {
   "cell_type": "code",
   "execution_count": 7,
   "metadata": {},
   "outputs": [
    {
     "data": {
      "text/plain": [
       "(480, 640, 3)"
      ]
     },
     "execution_count": 7,
     "metadata": {},
     "output_type": "execute_result"
    }
   ],
   "source": [
    "image.shape"
   ]
  },
  {
   "cell_type": "markdown",
   "metadata": {},
   "source": [
    "Les images ne sont pas au bon format, il faut les mettre au bon format : (416x416)"
   ]
  },
  {
   "cell_type": "code",
   "execution_count": 8,
   "metadata": {},
   "outputs": [
    {
     "data": {
      "image/png": "[encoded data removed]",
      "text/plain": [
       "<Figure size 432x288 with 1 Axes>"
      ]
     },
     "metadata": {},
     "output_type": "display_data"
    }
   ],
   "source": [
    "image_2 = cv2.resize(image,(416,416))\n",
    "plt.imshow(cv2.cvtColor(image_2,cv2.COLOR_BGR2RGB))\n",
    "plt.show()"
   ]
  },
  {
   "cell_type": "code",
   "execution_count": 9,
   "metadata": {},
   "outputs": [
    {
     "data": {
      "text/plain": [
       "(416, 416, 3)"
      ]
     },
     "execution_count": 9,
     "metadata": {},
     "output_type": "execute_result"
    }
   ],
   "source": [
    "image_2.shape"
   ]
  },
  {
   "cell_type": "markdown",
   "metadata": {},
   "source": [
    "#### Fonction permettant de faire la transformation sur tout le data set : ####\n",
    "\n",
    "Entrée : \n",
    "- chemin : le direction vers les images\n",
    "\n",
    "Sortie : \n",
    "- df : un dataframe pandas contenant les images, les targets sous la forme d'un vecteur et le nom de la target (labels)"
   ]
  },
  {
   "cell_type": "code",
   "execution_count": 6,
   "metadata": {},
   "outputs": [],
   "source": [
    "def creation_df_pandas(chemin):\n",
    "    data = {'image' : [],'target' : [], 'labels' : []}\n",
    "    targets = os.listdir(chemin)\n",
    "    k = 1\n",
    "    for i in targets:\n",
    "        direction = chemin + '/' + i\n",
    "        fichier = os.listdir(direction)\n",
    "        for file in fichier:\n",
    "            if '.jpg' in file:\n",
    "                image = cv2.imread(direction + '/' + file)\n",
    "                image = cv2.resize(image,(416,416))\n",
    "                data['image'] = data['image'] + [image]\n",
    "                data['target'] = data['target'] + [(k-1)*[0]+[1]+(len(targets)-k)*[0]]\n",
    "                data['labels'] = data['labels'] + [i]\n",
    "        k = k +1\n",
    "    df = pd.DataFrame(data=data)\n",
    "    return(df)"
   ]
  },
  {
   "cell_type": "markdown",
   "metadata": {},
   "source": [
    "### Entrainement du modèle ###"
   ]
  },
  {
   "cell_type": "markdown",
   "metadata": {},
   "source": [
    "#### Entrainement sur les données simples ####"
   ]
  },
  {
   "cell_type": "code",
   "execution_count": 7,
   "metadata": {},
   "outputs": [],
   "source": [
    "chemin = '/usr/users/gpusdi1/gpusdi1_26/Documents/AD/CMU_KO8/single/train/'\n",
    "df_train = creation_df_pandas(chemin)"
   ]
  },
  {
   "cell_type": "code",
   "execution_count": 8,
   "metadata": {},
   "outputs": [
    {
     "data": {
      "text/html": [
       "<div>\n",
       "<style scoped>\n",
       "    .dataframe tbody tr th:only-of-type {\n",
       "        vertical-align: middle;\n",
       "    }\n",
       "\n",
       "    .dataframe tbody tr th {\n",
       "        vertical-align: top;\n",
       "    }\n",
       "\n",
       "    .dataframe thead th {\n",
       "        text-align: right;\n",
       "    }\n",
       "</style>\n",
       "<table border=\"1\" class=\"dataframe\">\n",
       "  <thead>\n",
       "    <tr style=\"text-align: right;\">\n",
       "      <th></th>\n",
       "      <th>image</th>\n",
       "      <th>target</th>\n",
       "      <th>labels</th>\n",
       "    </tr>\n",
       "  </thead>\n",
       "  <tbody>\n",
       "    <tr>\n",
       "      <th>0</th>\n",
       "      <td>[[[145, 161, 167], [146, 163, 166], [147, 164,...</td>\n",
       "      <td>[1, 0, 0, 0, 0, 0, 0, 0]</td>\n",
       "      <td>pitcher</td>\n",
       "    </tr>\n",
       "    <tr>\n",
       "      <th>1</th>\n",
       "      <td>[[[77, 97, 103], [76, 95, 102], [78, 97, 104],...</td>\n",
       "      <td>[0, 1, 0, 0, 0, 0, 0, 0]</td>\n",
       "      <td>shaker</td>\n",
       "    </tr>\n",
       "    <tr>\n",
       "      <th>2</th>\n",
       "      <td>[[[73, 94, 100], [73, 93, 98], [74, 94, 99], [...</td>\n",
       "      <td>[0, 0, 1, 0, 0, 0, 0, 0]</td>\n",
       "      <td>colander</td>\n",
       "    </tr>\n",
       "    <tr>\n",
       "      <th>3</th>\n",
       "      <td>[[[70, 86, 93], [70, 86, 93], [71, 86, 94], [7...</td>\n",
       "      <td>[0, 0, 0, 1, 0, 0, 0, 0]</td>\n",
       "      <td>scissors</td>\n",
       "    </tr>\n",
       "    <tr>\n",
       "      <th>4</th>\n",
       "      <td>[[[84, 106, 112], [83, 105, 111], [84, 106, 11...</td>\n",
       "      <td>[0, 0, 0, 0, 1, 0, 0, 0]</td>\n",
       "      <td>saucepan</td>\n",
       "    </tr>\n",
       "    <tr>\n",
       "      <th>5</th>\n",
       "      <td>[[[1, 20, 118], [1, 23, 121], [2, 24, 122], [4...</td>\n",
       "      <td>[0, 0, 0, 0, 0, 1, 0, 0]</td>\n",
       "      <td>cup</td>\n",
       "    </tr>\n",
       "    <tr>\n",
       "      <th>6</th>\n",
       "      <td>[[[85, 106, 114], [85, 106, 114], [86, 106, 11...</td>\n",
       "      <td>[0, 0, 0, 0, 0, 0, 1, 0]</td>\n",
       "      <td>bakingpan</td>\n",
       "    </tr>\n",
       "    <tr>\n",
       "      <th>7</th>\n",
       "      <td>[[[11, 11, 17], [11, 11, 17], [11, 12, 17], [1...</td>\n",
       "      <td>[0, 0, 0, 0, 0, 0, 0, 1]</td>\n",
       "      <td>thermos</td>\n",
       "    </tr>\n",
       "  </tbody>\n",
       "</table>\n",
       "</div>"
      ],
      "text/plain": [
       "                                               image  \\\n",
       "0  [[[145, 161, 167], [146, 163, 166], [147, 164,...   \n",
       "1  [[[77, 97, 103], [76, 95, 102], [78, 97, 104],...   \n",
       "2  [[[73, 94, 100], [73, 93, 98], [74, 94, 99], [...   \n",
       "3  [[[70, 86, 93], [70, 86, 93], [71, 86, 94], [7...   \n",
       "4  [[[84, 106, 112], [83, 105, 111], [84, 106, 11...   \n",
       "5  [[[1, 20, 118], [1, 23, 121], [2, 24, 122], [4...   \n",
       "6  [[[85, 106, 114], [85, 106, 114], [86, 106, 11...   \n",
       "7  [[[11, 11, 17], [11, 11, 17], [11, 12, 17], [1...   \n",
       "\n",
       "                     target     labels  \n",
       "0  [1, 0, 0, 0, 0, 0, 0, 0]    pitcher  \n",
       "1  [0, 1, 0, 0, 0, 0, 0, 0]     shaker  \n",
       "2  [0, 0, 1, 0, 0, 0, 0, 0]   colander  \n",
       "3  [0, 0, 0, 1, 0, 0, 0, 0]   scissors  \n",
       "4  [0, 0, 0, 0, 1, 0, 0, 0]   saucepan  \n",
       "5  [0, 0, 0, 0, 0, 1, 0, 0]        cup  \n",
       "6  [0, 0, 0, 0, 0, 0, 1, 0]  bakingpan  \n",
       "7  [0, 0, 0, 0, 0, 0, 0, 1]    thermos  "
      ]
     },
     "execution_count": 8,
     "metadata": {},
     "output_type": "execute_result"
    }
   ],
   "source": [
    "df_train"
   ]
  },
  {
   "cell_type": "code",
   "execution_count": 9,
   "metadata": {},
   "outputs": [],
   "source": [
    "#On transforme une série Pandas en un array numpy pour l'entrée du réseau à convolution\n",
    "\n",
    "train_images = df_train['image']\n",
    "train_images = train_images.values.tolist()\n",
    "train_images = np.array(train_images)\n",
    "\n",
    "train_labels = df_train['target']\n",
    "train_labels = train_labels.values.tolist()\n",
    "train_labels = np.array(train_labels,dtype='uint8')"
   ]
  },
  {
   "cell_type": "markdown",
   "metadata": {},
   "source": [
    "On load les données de test : "
   ]
  },
  {
   "cell_type": "code",
   "execution_count": 10,
   "metadata": {},
   "outputs": [],
   "source": [
    "df_test = creation_df_pandas('/usr/users/gpusdi1/gpusdi1_26/Documents/AD/CMU_KO8/single/test/')"
   ]
  },
  {
   "cell_type": "code",
   "execution_count": 12,
   "metadata": {},
   "outputs": [],
   "source": [
    "test_images = df_test['image']\n",
    "test_images = test_images.values.tolist()\n",
    "test_images = np.array(test_images)\n",
    "\n",
    "test_labels = df_test['target']\n",
    "test_labels = test_labels.values.tolist()\n",
    "test_labels = np.array(test_labels,dtype='uint8')"
   ]
  },
  {
   "cell_type": "markdown",
   "metadata": {},
   "source": [
    "On normalise les images entre 0 et 1 pour améliorer les temps de calculs"
   ]
  },
  {
   "cell_type": "code",
   "execution_count": 13,
   "metadata": {},
   "outputs": [],
   "source": [
    "train_images = train_images / 255\n",
    "test_images = test_images / 255"
   ]
  },
  {
   "cell_type": "code",
   "execution_count": 14,
   "metadata": {},
   "outputs": [
    {
     "name": "stdout",
     "output_type": "stream",
     "text": [
      "Train on 8 samples, validate on 800 samples\n",
      "Epoch 1/100\n",
      "8/8 [==============================] - 4s 522ms/sample - loss: 2.0798 - accuracy: 0.0000e+00 - val_loss: 2.0892 - val_accuracy: 0.1250\n",
      "Epoch 2/100\n",
      "8/8 [==============================] - 2s 239ms/sample - loss: 2.0761 - accuracy: 0.1250 - val_loss: 2.1729 - val_accuracy: 0.1250\n",
      "Epoch 3/100\n",
      "8/8 [==============================] - 2s 233ms/sample - loss: 2.0713 - accuracy: 0.1250 - val_loss: 2.0959 - val_accuracy: 0.1238\n",
      "Epoch 4/100\n",
      "8/8 [==============================] - 2s 237ms/sample - loss: 2.0533 - accuracy: 0.2500 - val_loss: 2.3032 - val_accuracy: 0.1275\n",
      "Epoch 5/100\n",
      "8/8 [==============================] - 2s 236ms/sample - loss: 1.9285 - accuracy: 0.3750 - val_loss: 3.6613 - val_accuracy: 0.1287\n",
      "Epoch 6/100\n",
      "8/8 [==============================] - 2s 239ms/sample - loss: 1.5142 - accuracy: 0.5000 - val_loss: 7.6443 - val_accuracy: 0.1737\n",
      "Epoch 7/100\n",
      "8/8 [==============================] - 2s 238ms/sample - loss: 1.0012 - accuracy: 0.6250 - val_loss: 7.2787 - val_accuracy: 0.1437\n",
      "Epoch 8/100\n",
      "8/8 [==============================] - 2s 234ms/sample - loss: 0.7273 - accuracy: 0.6250 - val_loss: 5.8918 - val_accuracy: 0.1575\n",
      "Epoch 9/100\n",
      "8/8 [==============================] - 2s 236ms/sample - loss: 0.3018 - accuracy: 0.8750 - val_loss: 12.8978 - val_accuracy: 0.1363\n",
      "Epoch 10/100\n",
      "8/8 [==============================] - 2s 238ms/sample - loss: 0.1428 - accuracy: 1.0000 - val_loss: 22.4956 - val_accuracy: 0.1663\n",
      "Epoch 11/100\n",
      "8/8 [==============================] - 2s 237ms/sample - loss: 0.0113 - accuracy: 1.0000 - val_loss: 40.8312 - val_accuracy: 0.1525\n",
      "Epoch 12/100\n",
      "8/8 [==============================] - 2s 236ms/sample - loss: 0.4274 - accuracy: 0.8750 - val_loss: 33.6501 - val_accuracy: 0.1850\n",
      "Epoch 13/100\n",
      "8/8 [==============================] - 2s 229ms/sample - loss: 0.0057 - accuracy: 1.0000 - val_loss: 34.6239 - val_accuracy: 0.1988\n",
      "Epoch 14/100\n",
      "8/8 [==============================] - 2s 234ms/sample - loss: 0.4542 - accuracy: 0.8750 - val_loss: 45.5165 - val_accuracy: 0.2163\n",
      "Epoch 15/100\n",
      "8/8 [==============================] - 2s 235ms/sample - loss: 1.2162 - accuracy: 0.8750 - val_loss: 45.6581 - val_accuracy: 0.2000\n",
      "Epoch 16/100\n",
      "8/8 [==============================] - 2s 244ms/sample - loss: 0.0057 - accuracy: 1.0000 - val_loss: 50.1352 - val_accuracy: 0.1663\n",
      "Epoch 17/100\n",
      "8/8 [==============================] - 2s 243ms/sample - loss: 0.4917 - accuracy: 0.8750 - val_loss: 37.8342 - val_accuracy: 0.2075\n",
      "Epoch 18/100\n",
      "8/8 [==============================] - 2s 244ms/sample - loss: 0.0914 - accuracy: 1.0000 - val_loss: 33.8351 - val_accuracy: 0.2237\n",
      "Epoch 19/100\n",
      "8/8 [==============================] - 2s 244ms/sample - loss: 0.1585 - accuracy: 1.0000 - val_loss: 33.6402 - val_accuracy: 0.2087\n",
      "Epoch 20/100\n",
      "8/8 [==============================] - 2s 241ms/sample - loss: 0.1506 - accuracy: 1.0000 - val_loss: 35.1767 - val_accuracy: 0.1975\n",
      "Epoch 21/100\n",
      "8/8 [==============================] - 2s 232ms/sample - loss: 0.1240 - accuracy: 1.0000 - val_loss: 37.0832 - val_accuracy: 0.1787\n",
      "Epoch 22/100\n",
      "8/8 [==============================] - 2s 232ms/sample - loss: 0.1083 - accuracy: 0.8750 - val_loss: 38.2244 - val_accuracy: 0.1650\n",
      "Epoch 23/100\n",
      "8/8 [==============================] - 2s 235ms/sample - loss: 0.0649 - accuracy: 1.0000 - val_loss: 37.3368 - val_accuracy: 0.1762\n",
      "Epoch 24/100\n",
      "8/8 [==============================] - 2s 243ms/sample - loss: 0.2267 - accuracy: 0.8750 - val_loss: 31.3020 - val_accuracy: 0.1988\n",
      "Epoch 25/100\n",
      "8/8 [==============================] - 2s 244ms/sample - loss: 0.0019 - accuracy: 1.0000 - val_loss: 27.5117 - val_accuracy: 0.2175\n",
      "Epoch 26/100\n",
      "8/8 [==============================] - 2s 241ms/sample - loss: 0.0273 - accuracy: 1.0000 - val_loss: 24.9129 - val_accuracy: 0.2288\n",
      "Epoch 27/100\n",
      "8/8 [==============================] - 2s 243ms/sample - loss: 0.0671 - accuracy: 1.0000 - val_loss: 22.7220 - val_accuracy: 0.2375\n",
      "Epoch 28/100\n",
      "8/8 [==============================] - 2s 241ms/sample - loss: 0.0182 - accuracy: 1.0000 - val_loss: 21.1965 - val_accuracy: 0.2362\n",
      "Epoch 29/100\n",
      "8/8 [==============================] - 2s 236ms/sample - loss: 0.0069 - accuracy: 1.0000 - val_loss: 20.1969 - val_accuracy: 0.2275\n",
      "Epoch 30/100\n",
      "8/8 [==============================] - 2s 245ms/sample - loss: 0.0050 - accuracy: 1.0000 - val_loss: 20.0049 - val_accuracy: 0.2188\n",
      "Epoch 31/100\n",
      "8/8 [==============================] - 2s 235ms/sample - loss: 0.0083 - accuracy: 1.0000 - val_loss: 21.6408 - val_accuracy: 0.2200\n",
      "Epoch 32/100\n",
      "8/8 [==============================] - 2s 235ms/sample - loss: 0.0017 - accuracy: 1.0000 - val_loss: 23.7239 - val_accuracy: 0.2288\n",
      "Epoch 33/100\n",
      "8/8 [==============================] - 2s 240ms/sample - loss: 5.3348e-04 - accuracy: 1.0000 - val_loss: 25.9742 - val_accuracy: 0.2325\n",
      "Epoch 34/100\n",
      "8/8 [==============================] - 2s 244ms/sample - loss: 2.5317e-04 - accuracy: 1.0000 - val_loss: 28.3344 - val_accuracy: 0.2275\n",
      "Epoch 35/100\n",
      "8/8 [==============================] - 2s 239ms/sample - loss: 1.2557e-04 - accuracy: 1.0000 - val_loss: 30.7559 - val_accuracy: 0.2300\n",
      "Epoch 36/100\n",
      "8/8 [==============================] - 2s 241ms/sample - loss: 6.0834e-05 - accuracy: 1.0000 - val_loss: 33.1931 - val_accuracy: 0.2325\n",
      "Epoch 37/100\n",
      "8/8 [==============================] - 2s 240ms/sample - loss: 3.0486e-05 - accuracy: 1.0000 - val_loss: 35.6061 - val_accuracy: 0.2313\n",
      "Epoch 38/100\n",
      "8/8 [==============================] - 2s 238ms/sample - loss: 1.5214e-05 - accuracy: 1.0000 - val_loss: 37.9697 - val_accuracy: 0.2300\n",
      "Epoch 39/100\n",
      "8/8 [==============================] - 2s 244ms/sample - loss: 7.8826e-06 - accuracy: 1.0000 - val_loss: 40.2633 - val_accuracy: 0.2325\n",
      "Epoch 40/100\n",
      "8/8 [==============================] - 2s 248ms/sample - loss: 4.1723e-06 - accuracy: 1.0000 - val_loss: 42.4734 - val_accuracy: 0.2300\n",
      "Epoch 41/100\n",
      "8/8 [==============================] - 2s 237ms/sample - loss: 2.1756e-06 - accuracy: 1.0000 - val_loss: 44.6002 - val_accuracy: 0.2325\n",
      "Epoch 42/100\n",
      "8/8 [==============================] - 2s 233ms/sample - loss: 1.1772e-06 - accuracy: 1.0000 - val_loss: 46.6359 - val_accuracy: 0.2375\n",
      "Epoch 43/100\n",
      "8/8 [==============================] - 2s 237ms/sample - loss: 6.8545e-07 - accuracy: 1.0000 - val_loss: 48.5876 - val_accuracy: 0.2338\n",
      "Epoch 44/100\n",
      "8/8 [==============================] - 2s 236ms/sample - loss: 4.1723e-07 - accuracy: 1.0000 - val_loss: 50.4524 - val_accuracy: 0.2338\n",
      "Epoch 45/100\n",
      "8/8 [==============================] - 2s 244ms/sample - loss: 2.9802e-07 - accuracy: 1.0000 - val_loss: 52.2239 - val_accuracy: 0.2313\n",
      "Epoch 46/100\n",
      "8/8 [==============================] - 2s 240ms/sample - loss: 2.2352e-07 - accuracy: 1.0000 - val_loss: 53.9044 - val_accuracy: 0.2325\n",
      "Epoch 47/100\n",
      "8/8 [==============================] - 2s 238ms/sample - loss: 1.9371e-07 - accuracy: 1.0000 - val_loss: 55.5004 - val_accuracy: 0.2300\n",
      "Epoch 48/100\n",
      "8/8 [==============================] - 2s 239ms/sample - loss: 1.6391e-07 - accuracy: 1.0000 - val_loss: 57.0079 - val_accuracy: 0.2313\n",
      "Epoch 49/100\n",
      "8/8 [==============================] - 2s 244ms/sample - loss: 1.4901e-07 - accuracy: 1.0000 - val_loss: 58.4086 - val_accuracy: 0.2288\n",
      "Epoch 50/100\n",
      "8/8 [==============================] - 2s 238ms/sample - loss: 1.4901e-07 - accuracy: 1.0000 - val_loss: 59.7011 - val_accuracy: 0.2313\n",
      "Epoch 51/100\n",
      "8/8 [==============================] - 2s 238ms/sample - loss: 1.1921e-07 - accuracy: 1.0000 - val_loss: 60.9045 - val_accuracy: 0.2313\n",
      "Epoch 52/100\n",
      "8/8 [==============================] - 2s 239ms/sample - loss: 1.3411e-07 - accuracy: 1.0000 - val_loss: 62.0224 - val_accuracy: 0.2325\n",
      "Epoch 53/100\n",
      "8/8 [==============================] - 2s 241ms/sample - loss: 1.6391e-07 - accuracy: 1.0000 - val_loss: 63.0596 - val_accuracy: 0.2313\n",
      "Epoch 54/100\n",
      "8/8 [==============================] - 2s 237ms/sample - loss: 2.0862e-07 - accuracy: 1.0000 - val_loss: 64.0255 - val_accuracy: 0.2300\n",
      "Epoch 55/100\n",
      "8/8 [==============================] - 2s 240ms/sample - loss: 2.8312e-07 - accuracy: 1.0000 - val_loss: 64.9222 - val_accuracy: 0.2288\n",
      "Epoch 56/100\n",
      "8/8 [==============================] - 2s 236ms/sample - loss: 4.1723e-07 - accuracy: 1.0000 - val_loss: 65.7555 - val_accuracy: 0.2300\n"
     ]
    },
    {
     "name": "stdout",
     "output_type": "stream",
     "text": [
      "Epoch 57/100\n",
      "8/8 [==============================] - 2s 242ms/sample - loss: 5.9605e-07 - accuracy: 1.0000 - val_loss: 66.5335 - val_accuracy: 0.2300\n",
      "Epoch 58/100\n",
      "8/8 [==============================] - 2s 238ms/sample - loss: 8.4936e-07 - accuracy: 1.0000 - val_loss: 67.2715 - val_accuracy: 0.2288\n",
      "Epoch 59/100\n",
      "8/8 [==============================] - 2s 239ms/sample - loss: 1.1474e-06 - accuracy: 1.0000 - val_loss: 67.9927 - val_accuracy: 0.2275\n",
      "Epoch 60/100\n",
      "8/8 [==============================] - 2s 241ms/sample - loss: 1.4305e-06 - accuracy: 1.0000 - val_loss: 68.8837 - val_accuracy: 0.2250\n",
      "Epoch 61/100\n",
      "8/8 [==============================] - 2s 237ms/sample - loss: 1.8924e-06 - accuracy: 1.0000 - val_loss: 69.1146 - val_accuracy: 0.2262\n",
      "Epoch 62/100\n",
      "8/8 [==============================] - 2s 239ms/sample - loss: 2.1756e-06 - accuracy: 1.0000 - val_loss: 69.5646 - val_accuracy: 0.2275\n",
      "Epoch 63/100\n",
      "8/8 [==============================] - 2s 246ms/sample - loss: 2.6226e-06 - accuracy: 1.0000 - val_loss: 70.2198 - val_accuracy: 0.2262\n",
      "Epoch 64/100\n",
      "8/8 [==============================] - 2s 240ms/sample - loss: 2.5332e-06 - accuracy: 1.0000 - val_loss: 71.0865 - val_accuracy: 0.2250\n",
      "Epoch 65/100\n",
      "8/8 [==============================] - 2s 241ms/sample - loss: 2.7567e-06 - accuracy: 1.0000 - val_loss: 71.4297 - val_accuracy: 0.2250\n",
      "Epoch 66/100\n",
      "8/8 [==============================] - 2s 240ms/sample - loss: 2.1756e-06 - accuracy: 1.0000 - val_loss: 71.5239 - val_accuracy: 0.2250\n",
      "Epoch 67/100\n",
      "8/8 [==============================] - 2s 243ms/sample - loss: 1.9222e-06 - accuracy: 1.0000 - val_loss: 71.7778 - val_accuracy: 0.2250\n",
      "Epoch 68/100\n",
      "8/8 [==============================] - 2s 239ms/sample - loss: 1.6391e-06 - accuracy: 1.0000 - val_loss: 72.1741 - val_accuracy: 0.2262\n",
      "Epoch 69/100\n",
      "8/8 [==============================] - 2s 239ms/sample - loss: 1.1474e-06 - accuracy: 1.0000 - val_loss: 72.6902 - val_accuracy: 0.2237\n",
      "Epoch 70/100\n",
      "8/8 [==============================] - 2s 234ms/sample - loss: 6.2585e-07 - accuracy: 1.0000 - val_loss: 73.2378 - val_accuracy: 0.2250\n",
      "Epoch 71/100\n",
      "8/8 [==============================] - 2s 236ms/sample - loss: 3.4273e-07 - accuracy: 1.0000 - val_loss: 73.7692 - val_accuracy: 0.2225\n",
      "Epoch 72/100\n",
      "8/8 [==============================] - 2s 239ms/sample - loss: 2.0862e-07 - accuracy: 1.0000 - val_loss: 74.2484 - val_accuracy: 0.2200\n",
      "Epoch 73/100\n",
      "8/8 [==============================] - 2s 238ms/sample - loss: 1.4901e-07 - accuracy: 1.0000 - val_loss: 74.6650 - val_accuracy: 0.2175\n",
      "Epoch 74/100\n",
      "8/8 [==============================] - 2s 241ms/sample - loss: 1.0431e-07 - accuracy: 1.0000 - val_loss: 75.0083 - val_accuracy: 0.2163\n",
      "Epoch 75/100\n",
      "8/8 [==============================] - 2s 243ms/sample - loss: 1.0431e-07 - accuracy: 1.0000 - val_loss: 75.2624 - val_accuracy: 0.2150\n",
      "Epoch 76/100\n",
      "8/8 [==============================] - 2s 240ms/sample - loss: 8.9407e-08 - accuracy: 1.0000 - val_loss: 75.4203 - val_accuracy: 0.2138\n",
      "Epoch 77/100\n",
      "8/8 [==============================] - 2s 245ms/sample - loss: 8.9407e-08 - accuracy: 1.0000 - val_loss: 75.4826 - val_accuracy: 0.2150\n",
      "Epoch 78/100\n",
      "8/8 [==============================] - 2s 238ms/sample - loss: 7.4506e-08 - accuracy: 1.0000 - val_loss: 75.4642 - val_accuracy: 0.2150\n",
      "Epoch 79/100\n",
      "8/8 [==============================] - 2s 247ms/sample - loss: 5.9605e-08 - accuracy: 1.0000 - val_loss: 75.3833 - val_accuracy: 0.2150\n",
      "Epoch 80/100\n",
      "8/8 [==============================] - 2s 242ms/sample - loss: 5.9605e-08 - accuracy: 1.0000 - val_loss: 75.2580 - val_accuracy: 0.2150\n",
      "Epoch 81/100\n",
      "8/8 [==============================] - 2s 243ms/sample - loss: 2.9802e-08 - accuracy: 1.0000 - val_loss: 75.1068 - val_accuracy: 0.2150\n",
      "Epoch 82/100\n",
      "8/8 [==============================] - 2s 245ms/sample - loss: 2.9802e-08 - accuracy: 1.0000 - val_loss: 74.9415 - val_accuracy: 0.2150\n",
      "Epoch 83/100\n",
      "8/8 [==============================] - 2s 244ms/sample - loss: 2.9802e-08 - accuracy: 1.0000 - val_loss: 74.7703 - val_accuracy: 0.2150\n",
      "Epoch 84/100\n",
      "8/8 [==============================] - 2s 242ms/sample - loss: 1.4901e-08 - accuracy: 1.0000 - val_loss: 74.6013 - val_accuracy: 0.2150\n",
      "Epoch 85/100\n",
      "8/8 [==============================] - 2s 242ms/sample - loss: 0.0000e+00 - accuracy: 1.0000 - val_loss: 74.4386 - val_accuracy: 0.2150\n",
      "Epoch 86/100\n",
      "8/8 [==============================] - 2s 240ms/sample - loss: 0.0000e+00 - accuracy: 1.0000 - val_loss: 74.2842 - val_accuracy: 0.2150\n",
      "Epoch 87/100\n",
      "8/8 [==============================] - 2s 237ms/sample - loss: 0.0000e+00 - accuracy: 1.0000 - val_loss: 74.1391 - val_accuracy: 0.2150\n",
      "Epoch 88/100\n",
      "8/8 [==============================] - 2s 239ms/sample - loss: 0.0000e+00 - accuracy: 1.0000 - val_loss: 74.0036 - val_accuracy: 0.2150\n",
      "Epoch 89/100\n",
      "8/8 [==============================] - 2s 240ms/sample - loss: 0.0000e+00 - accuracy: 1.0000 - val_loss: 73.8778 - val_accuracy: 0.2150\n",
      "Epoch 90/100\n",
      "8/8 [==============================] - 2s 238ms/sample - loss: 0.0000e+00 - accuracy: 1.0000 - val_loss: 73.7614 - val_accuracy: 0.2150\n",
      "Epoch 91/100\n",
      "8/8 [==============================] - 2s 241ms/sample - loss: 0.0000e+00 - accuracy: 1.0000 - val_loss: 73.6540 - val_accuracy: 0.2150\n",
      "Epoch 92/100\n",
      "8/8 [==============================] - 2s 239ms/sample - loss: 0.0000e+00 - accuracy: 1.0000 - val_loss: 73.5552 - val_accuracy: 0.2163\n",
      "Epoch 93/100\n",
      "8/8 [==============================] - 2s 242ms/sample - loss: 0.0000e+00 - accuracy: 1.0000 - val_loss: 73.4644 - val_accuracy: 0.2163\n",
      "Epoch 94/100\n",
      "8/8 [==============================] - 2s 239ms/sample - loss: 0.0000e+00 - accuracy: 1.0000 - val_loss: 73.3812 - val_accuracy: 0.2163\n",
      "Epoch 95/100\n",
      "8/8 [==============================] - 2s 235ms/sample - loss: 0.0000e+00 - accuracy: 1.0000 - val_loss: 73.3049 - val_accuracy: 0.2163\n",
      "Epoch 96/100\n",
      "8/8 [==============================] - 2s 239ms/sample - loss: 0.0000e+00 - accuracy: 1.0000 - val_loss: 73.2351 - val_accuracy: 0.2163\n",
      "Epoch 97/100\n",
      "8/8 [==============================] - 2s 237ms/sample - loss: 0.0000e+00 - accuracy: 1.0000 - val_loss: 73.1713 - val_accuracy: 0.2163\n",
      "Epoch 98/100\n",
      "8/8 [==============================] - 2s 242ms/sample - loss: 0.0000e+00 - accuracy: 1.0000 - val_loss: 73.1130 - val_accuracy: 0.2150\n",
      "Epoch 99/100\n",
      "8/8 [==============================] - 2s 240ms/sample - loss: 0.0000e+00 - accuracy: 1.0000 - val_loss: 73.0598 - val_accuracy: 0.2150\n",
      "Epoch 100/100\n",
      "8/8 [==============================] - 2s 242ms/sample - loss: 0.0000e+00 - accuracy: 1.0000 - val_loss: 73.0111 - val_accuracy: 0.2163\n"
     ]
    }
   ],
   "source": [
    "history = model.fit(train_images, train_labels, epochs=100,validation_data = (test_images,test_labels))"
   ]
  },
  {
   "cell_type": "code",
   "execution_count": 18,
   "metadata": {},
   "outputs": [
    {
     "data": {
      "text/plain": [
       "<matplotlib.legend.Legend at 0x7fe3280b9dd8>"
      ]
     },
     "execution_count": 18,
     "metadata": {},
     "output_type": "execute_result"
    },
    {
     "data": {
      "image/png": "[encoded data removed]",
      "text/plain": [
       "<Figure size 432x288 with 1 Axes>"
      ]
     },
     "metadata": {
      "needs_background": "light"
     },
     "output_type": "display_data"
    }
   ],
   "source": [
    "plt.plot(history.history['accuracy'], label='accuracy')\n",
    "plt.plot(history.history['val_accuracy'], label = 'val_accuracy')\n",
    "plt.xlabel('Epoch')\n",
    "plt.ylabel('Accuracy')\n",
    "plt.ylim([0, 1.1])\n",
    "plt.title(\"Accuracy en train et validation en fonction du nombre d'epoch\")\n",
    "plt.legend(loc='lower right')"
   ]
  },
  {
   "cell_type": "code",
   "execution_count": 19,
   "metadata": {},
   "outputs": [
    {
     "data": {
      "text/plain": [
       "<matplotlib.legend.Legend at 0x7fe494c2ef28>"
      ]
     },
     "execution_count": 19,
     "metadata": {},
     "output_type": "execute_result"
    },
    {
     "data": {
      "image/png": "[encoded data removed]",
      "text/plain": [
       "<Figure size 432x288 with 1 Axes>"
      ]
     },
     "metadata": {
      "needs_background": "light"
     },
     "output_type": "display_data"
    }
   ],
   "source": [
    "plt.plot(history.history['loss'], label='loss')\n",
    "plt.plot(history.history['val_loss'], label = 'val_loss')\n",
    "plt.xlabel('Epoch')\n",
    "plt.ylabel('Loss')\n",
    "plt.ylim([0, 80])\n",
    "plt.title(\"Loss en train et validation en fonction du nombre d'epoch\")\n",
    "plt.legend(loc='lower right')"
   ]
  },
  {
   "cell_type": "markdown",
   "metadata": {},
   "source": [
    "Conclusion : Sur ces données d'entraînement le modèle overfit"
   ]
  },
  {
   "cell_type": "markdown",
   "metadata": {},
   "source": [
    "#### Entrainement sur les données multiples ####"
   ]
  },
  {
   "cell_type": "code",
   "execution_count": 20,
   "metadata": {},
   "outputs": [],
   "source": [
    "df_train = creation_df_pandas('/usr/users/gpusdi1/gpusdi1_26/Documents/AD/CMU_KO8/multiple/train/')"
   ]
  },
  {
   "cell_type": "code",
   "execution_count": 21,
   "metadata": {},
   "outputs": [],
   "source": [
    "train_images = df_train['image']\n",
    "train_images = train_images.values.tolist()\n",
    "train_images = np.array(train_images)\n",
    "\n",
    "train_labels = df_train['target']\n",
    "train_labels = train_labels.values.tolist()\n",
    "train_labels = np.array(train_labels,dtype='uint8')"
   ]
  },
  {
   "cell_type": "code",
   "execution_count": 22,
   "metadata": {},
   "outputs": [],
   "source": [
    "df_test = creation_df_pandas('/usr/users/gpusdi1/gpusdi1_26/Documents/AD/CMU_KO8/multiple/test/')"
   ]
  },
  {
   "cell_type": "code",
   "execution_count": 23,
   "metadata": {},
   "outputs": [],
   "source": [
    "test_images = df_test['image']\n",
    "test_images = test_images.values.tolist()\n",
    "test_images = np.array(test_images)\n",
    "\n",
    "test_labels = df_test['target']\n",
    "test_labels = test_labels.values.tolist()\n",
    "test_labels = np.array(test_labels,dtype='uint8')"
   ]
  },
  {
   "cell_type": "code",
   "execution_count": 24,
   "metadata": {},
   "outputs": [],
   "source": [
    "train_images = train_images / 255\n",
    "test_images = test_images / 255"
   ]
  },
  {
   "cell_type": "code",
   "execution_count": 25,
   "metadata": {},
   "outputs": [
    {
     "name": "stdout",
     "output_type": "stream",
     "text": [
      "Train on 200 samples, validate on 800 samples\n",
      "Epoch 1/100\n",
      "200/200 [==============================] - 4s 18ms/sample - loss: 13.0717 - accuracy: 0.1900 - val_loss: 2.0852 - val_accuracy: 0.1250\n",
      "Epoch 2/100\n",
      "200/200 [==============================] - 3s 14ms/sample - loss: 2.0770 - accuracy: 0.1350 - val_loss: 2.1404 - val_accuracy: 0.1250\n",
      "Epoch 3/100\n",
      "200/200 [==============================] - 3s 15ms/sample - loss: 2.0999 - accuracy: 0.0400 - val_loss: 2.0789 - val_accuracy: 0.1250\n",
      "Epoch 4/100\n",
      "200/200 [==============================] - 3s 14ms/sample - loss: 2.0775 - accuracy: 0.1250 - val_loss: 2.1710 - val_accuracy: 0.1250\n",
      "Epoch 5/100\n",
      "200/200 [==============================] - 3s 14ms/sample - loss: 2.0849 - accuracy: 0.1250 - val_loss: 2.0795 - val_accuracy: 0.1250\n",
      "Epoch 6/100\n",
      "200/200 [==============================] - 3s 14ms/sample - loss: 2.0796 - accuracy: 0.1250 - val_loss: 2.0795 - val_accuracy: 0.1250\n",
      "Epoch 7/100\n",
      "200/200 [==============================] - 3s 14ms/sample - loss: 2.0795 - accuracy: 0.1250 - val_loss: 2.0795 - val_accuracy: 0.1250\n",
      "Epoch 8/100\n",
      "200/200 [==============================] - 3s 15ms/sample - loss: 2.0796 - accuracy: 0.1250 - val_loss: 2.0795 - val_accuracy: 0.1250\n",
      "Epoch 9/100\n",
      "200/200 [==============================] - 3s 14ms/sample - loss: 2.0795 - accuracy: 0.1250 - val_loss: 2.0795 - val_accuracy: 0.1250\n",
      "Epoch 10/100\n",
      "200/200 [==============================] - 3s 15ms/sample - loss: 2.0795 - accuracy: 0.1200 - val_loss: 2.0795 - val_accuracy: 0.1250\n",
      "Epoch 11/100\n",
      "200/200 [==============================] - 3s 14ms/sample - loss: 2.0795 - accuracy: 0.1250 - val_loss: 2.0795 - val_accuracy: 0.1250\n",
      "Epoch 12/100\n",
      "200/200 [==============================] - 3s 14ms/sample - loss: 2.0795 - accuracy: 0.1200 - val_loss: 2.0795 - val_accuracy: 0.1250\n",
      "Epoch 13/100\n",
      "200/200 [==============================] - 3s 14ms/sample - loss: 2.0795 - accuracy: 0.1000 - val_loss: 2.0795 - val_accuracy: 0.1250\n",
      "Epoch 14/100\n",
      "200/200 [==============================] - 3s 15ms/sample - loss: 2.0795 - accuracy: 0.1250 - val_loss: 2.0795 - val_accuracy: 0.1250\n",
      "Epoch 15/100\n",
      "200/200 [==============================] - 3s 14ms/sample - loss: 2.0795 - accuracy: 0.1250 - val_loss: 2.0795 - val_accuracy: 0.1250\n",
      "Epoch 16/100\n",
      "200/200 [==============================] - 3s 14ms/sample - loss: 2.0795 - accuracy: 0.1250 - val_loss: 2.0795 - val_accuracy: 0.1250\n",
      "Epoch 17/100\n",
      "200/200 [==============================] - 3s 14ms/sample - loss: 2.0795 - accuracy: 0.1250 - val_loss: 2.0795 - val_accuracy: 0.1250\n",
      "Epoch 18/100\n",
      "200/200 [==============================] - 3s 14ms/sample - loss: 2.0795 - accuracy: 0.1250 - val_loss: 2.0795 - val_accuracy: 0.1250\n",
      "Epoch 19/100\n",
      "200/200 [==============================] - 3s 15ms/sample - loss: 2.0795 - accuracy: 0.1250 - val_loss: 2.0795 - val_accuracy: 0.1250\n",
      "Epoch 20/100\n",
      "200/200 [==============================] - 3s 15ms/sample - loss: 2.0795 - accuracy: 0.1250 - val_loss: 2.0795 - val_accuracy: 0.1250\n",
      "Epoch 21/100\n",
      "200/200 [==============================] - 3s 14ms/sample - loss: 2.0795 - accuracy: 0.1250 - val_loss: 2.0795 - val_accuracy: 0.1250\n",
      "Epoch 22/100\n",
      "200/200 [==============================] - 3s 14ms/sample - loss: 2.0795 - accuracy: 0.1250 - val_loss: 2.0795 - val_accuracy: 0.1250\n",
      "Epoch 23/100\n",
      "200/200 [==============================] - 3s 15ms/sample - loss: 2.0795 - accuracy: 0.1250 - val_loss: 2.0795 - val_accuracy: 0.1250\n",
      "Epoch 24/100\n",
      "200/200 [==============================] - 3s 14ms/sample - loss: 2.0795 - accuracy: 0.1250 - val_loss: 2.0795 - val_accuracy: 0.1250\n",
      "Epoch 25/100\n",
      "200/200 [==============================] - 3s 14ms/sample - loss: 2.0795 - accuracy: 0.1250 - val_loss: 2.0795 - val_accuracy: 0.1250\n",
      "Epoch 26/100\n",
      "200/200 [==============================] - 3s 15ms/sample - loss: 2.0795 - accuracy: 0.1250 - val_loss: 2.0795 - val_accuracy: 0.1250\n",
      "Epoch 27/100\n",
      "200/200 [==============================] - 3s 15ms/sample - loss: 2.0795 - accuracy: 0.1250 - val_loss: 2.0795 - val_accuracy: 0.1250\n",
      "Epoch 28/100\n",
      "200/200 [==============================] - 3s 14ms/sample - loss: 2.0795 - accuracy: 0.1250 - val_loss: 2.0795 - val_accuracy: 0.1250\n",
      "Epoch 29/100\n",
      "200/200 [==============================] - 3s 15ms/sample - loss: 2.0795 - accuracy: 0.1250 - val_loss: 2.0795 - val_accuracy: 0.1250\n",
      "Epoch 30/100\n",
      "200/200 [==============================] - 3s 14ms/sample - loss: 2.0795 - accuracy: 0.1250 - val_loss: 2.0795 - val_accuracy: 0.1250\n",
      "Epoch 31/100\n",
      "200/200 [==============================] - 3s 15ms/sample - loss: 2.0795 - accuracy: 0.1250 - val_loss: 2.0795 - val_accuracy: 0.1250\n",
      "Epoch 32/100\n",
      "200/200 [==============================] - 3s 15ms/sample - loss: 2.0795 - accuracy: 0.1250 - val_loss: 2.0795 - val_accuracy: 0.1250\n",
      "Epoch 33/100\n",
      "200/200 [==============================] - 3s 14ms/sample - loss: 2.0795 - accuracy: 0.1250 - val_loss: 2.0795 - val_accuracy: 0.1250\n",
      "Epoch 34/100\n",
      "200/200 [==============================] - 3s 14ms/sample - loss: 2.0795 - accuracy: 0.1250 - val_loss: 2.0795 - val_accuracy: 0.1250\n",
      "Epoch 35/100\n",
      "200/200 [==============================] - 3s 14ms/sample - loss: 2.0795 - accuracy: 0.1250 - val_loss: 2.0795 - val_accuracy: 0.1250\n",
      "Epoch 36/100\n",
      "200/200 [==============================] - 3s 15ms/sample - loss: 2.0795 - accuracy: 0.1250 - val_loss: 2.0795 - val_accuracy: 0.1250\n",
      "Epoch 37/100\n",
      "200/200 [==============================] - 3s 15ms/sample - loss: 2.0795 - accuracy: 0.1250 - val_loss: 2.0795 - val_accuracy: 0.1250\n",
      "Epoch 38/100\n",
      "200/200 [==============================] - 3s 14ms/sample - loss: 2.0795 - accuracy: 0.1250 - val_loss: 2.0795 - val_accuracy: 0.1250\n",
      "Epoch 39/100\n",
      "200/200 [==============================] - 3s 14ms/sample - loss: 2.0795 - accuracy: 0.1250 - val_loss: 2.0795 - val_accuracy: 0.1250\n",
      "Epoch 40/100\n",
      "200/200 [==============================] - 3s 15ms/sample - loss: 2.0795 - accuracy: 0.1250 - val_loss: 2.0795 - val_accuracy: 0.1250\n",
      "Epoch 41/100\n",
      "200/200 [==============================] - 3s 15ms/sample - loss: 2.0795 - accuracy: 0.1250 - val_loss: 2.0795 - val_accuracy: 0.1250\n",
      "Epoch 42/100\n",
      "200/200 [==============================] - 3s 14ms/sample - loss: 2.0795 - accuracy: 0.1250 - val_loss: 2.0795 - val_accuracy: 0.1250\n",
      "Epoch 43/100\n",
      "200/200 [==============================] - 3s 15ms/sample - loss: 2.0795 - accuracy: 0.1250 - val_loss: 2.0795 - val_accuracy: 0.1250\n",
      "Epoch 44/100\n",
      "200/200 [==============================] - 3s 14ms/sample - loss: 2.0796 - accuracy: 0.1250 - val_loss: 2.0795 - val_accuracy: 0.1250\n",
      "Epoch 45/100\n",
      "200/200 [==============================] - 3s 15ms/sample - loss: 2.0795 - accuracy: 0.1250 - val_loss: 2.0795 - val_accuracy: 0.1250\n",
      "Epoch 46/100\n",
      "200/200 [==============================] - 3s 14ms/sample - loss: 2.0795 - accuracy: 0.1100 - val_loss: 2.0795 - val_accuracy: 0.1250\n",
      "Epoch 47/100\n",
      "200/200 [==============================] - 3s 15ms/sample - loss: 2.0795 - accuracy: 0.1250 - val_loss: 2.0795 - val_accuracy: 0.1250\n",
      "Epoch 48/100\n",
      "200/200 [==============================] - 3s 14ms/sample - loss: 2.0796 - accuracy: 0.1250 - val_loss: 2.0795 - val_accuracy: 0.1250\n",
      "Epoch 49/100\n",
      "200/200 [==============================] - 3s 14ms/sample - loss: 2.0795 - accuracy: 0.1250 - val_loss: 2.0795 - val_accuracy: 0.1250\n",
      "Epoch 50/100\n",
      "200/200 [==============================] - 3s 15ms/sample - loss: 2.0796 - accuracy: 0.1250 - val_loss: 2.0795 - val_accuracy: 0.1250\n",
      "Epoch 51/100\n",
      "200/200 [==============================] - 3s 14ms/sample - loss: 2.0796 - accuracy: 0.1250 - val_loss: 2.0795 - val_accuracy: 0.1250\n",
      "Epoch 52/100\n",
      "200/200 [==============================] - 3s 15ms/sample - loss: 2.0795 - accuracy: 0.1250 - val_loss: 2.0795 - val_accuracy: 0.1250\n",
      "Epoch 53/100\n",
      "200/200 [==============================] - 3s 15ms/sample - loss: 2.0796 - accuracy: 0.0950 - val_loss: 2.0795 - val_accuracy: 0.1250\n",
      "Epoch 54/100\n",
      "200/200 [==============================] - 3s 14ms/sample - loss: 2.0796 - accuracy: 0.1250 - val_loss: 2.0795 - val_accuracy: 0.1250\n",
      "Epoch 55/100\n",
      "200/200 [==============================] - 3s 15ms/sample - loss: 2.0796 - accuracy: 0.1250 - val_loss: 2.0795 - val_accuracy: 0.1250\n",
      "Epoch 56/100\n",
      "200/200 [==============================] - 3s 15ms/sample - loss: 2.0795 - accuracy: 0.1250 - val_loss: 2.0795 - val_accuracy: 0.1250\n",
      "Epoch 57/100\n",
      "200/200 [==============================] - 3s 14ms/sample - loss: 2.0795 - accuracy: 0.1250 - val_loss: 2.0795 - val_accuracy: 0.1250\n",
      "Epoch 58/100\n",
      "200/200 [==============================] - 3s 15ms/sample - loss: 2.0795 - accuracy: 0.1250 - val_loss: 2.0795 - val_accuracy: 0.1250\n",
      "Epoch 59/100\n",
      "200/200 [==============================] - 3s 15ms/sample - loss: 2.0795 - accuracy: 0.1250 - val_loss: 2.0795 - val_accuracy: 0.1250\n",
      "Epoch 60/100\n",
      "200/200 [==============================] - 3s 15ms/sample - loss: 2.0795 - accuracy: 0.1250 - val_loss: 2.0795 - val_accuracy: 0.1250\n",
      "Epoch 61/100\n",
      "200/200 [==============================] - 3s 14ms/sample - loss: 2.0795 - accuracy: 0.1250 - val_loss: 2.0795 - val_accuracy: 0.1250\n",
      "Epoch 62/100\n",
      "200/200 [==============================] - 3s 15ms/sample - loss: 2.0796 - accuracy: 0.1250 - val_loss: 2.0795 - val_accuracy: 0.1250\n",
      "Epoch 63/100\n",
      "200/200 [==============================] - 3s 14ms/sample - loss: 2.0795 - accuracy: 0.1250 - val_loss: 2.0795 - val_accuracy: 0.1250\n",
      "Epoch 64/100\n",
      "200/200 [==============================] - 3s 14ms/sample - loss: 2.0795 - accuracy: 0.1250 - val_loss: 2.0795 - val_accuracy: 0.1250\n",
      "Epoch 65/100\n",
      "200/200 [==============================] - 3s 15ms/sample - loss: 2.0795 - accuracy: 0.1250 - val_loss: 2.0795 - val_accuracy: 0.1250\n",
      "Epoch 66/100\n",
      "200/200 [==============================] - 3s 14ms/sample - loss: 2.0796 - accuracy: 0.1250 - val_loss: 2.0795 - val_accuracy: 0.1250\n",
      "Epoch 67/100\n",
      "200/200 [==============================] - 3s 15ms/sample - loss: 2.0795 - accuracy: 0.1250 - val_loss: 2.0795 - val_accuracy: 0.1250\n",
      "Epoch 68/100\n",
      "200/200 [==============================] - 3s 15ms/sample - loss: 2.0795 - accuracy: 0.1250 - val_loss: 2.0795 - val_accuracy: 0.1250\n",
      "Epoch 69/100\n",
      "200/200 [==============================] - 3s 14ms/sample - loss: 2.0796 - accuracy: 0.1100 - val_loss: 2.0795 - val_accuracy: 0.1250\n",
      "Epoch 70/100\n",
      "200/200 [==============================] - 3s 14ms/sample - loss: 2.0795 - accuracy: 0.1250 - val_loss: 2.0795 - val_accuracy: 0.1250\n",
      "Epoch 71/100\n",
      "200/200 [==============================] - 3s 15ms/sample - loss: 2.0795 - accuracy: 0.1250 - val_loss: 2.0795 - val_accuracy: 0.1250\n",
      "Epoch 72/100\n",
      "200/200 [==============================] - 3s 15ms/sample - loss: 2.0795 - accuracy: 0.1250 - val_loss: 2.0795 - val_accuracy: 0.1250\n",
      "Epoch 73/100\n",
      "200/200 [==============================] - 3s 14ms/sample - loss: 2.0796 - accuracy: 0.1250 - val_loss: 2.0795 - val_accuracy: 0.1250\n",
      "Epoch 74/100\n",
      "200/200 [==============================] - 3s 14ms/sample - loss: 2.0795 - accuracy: 0.1250 - val_loss: 2.0795 - val_accuracy: 0.1250\n",
      "Epoch 75/100\n",
      "200/200 [==============================] - 3s 15ms/sample - loss: 2.0795 - accuracy: 0.1250 - val_loss: 2.0795 - val_accuracy: 0.1250\n",
      "Epoch 76/100\n",
      "200/200 [==============================] - 3s 14ms/sample - loss: 2.0795 - accuracy: 0.1250 - val_loss: 2.0795 - val_accuracy: 0.1250\n",
      "Epoch 77/100\n",
      "200/200 [==============================] - 3s 15ms/sample - loss: 2.0795 - accuracy: 0.1250 - val_loss: 2.0795 - val_accuracy: 0.1250\n",
      "Epoch 78/100\n",
      "200/200 [==============================] - 3s 15ms/sample - loss: 2.0795 - accuracy: 0.1250 - val_loss: 2.0795 - val_accuracy: 0.1250\n",
      "Epoch 79/100\n",
      "200/200 [==============================] - 3s 15ms/sample - loss: 2.0795 - accuracy: 0.1250 - val_loss: 2.0795 - val_accuracy: 0.1250\n",
      "Epoch 80/100\n",
      "200/200 [==============================] - 3s 15ms/sample - loss: 2.0795 - accuracy: 0.1250 - val_loss: 2.0795 - val_accuracy: 0.1250\n",
      "Epoch 81/100\n",
      "200/200 [==============================] - 3s 15ms/sample - loss: 2.0795 - accuracy: 0.1250 - val_loss: 2.0795 - val_accuracy: 0.1250\n",
      "Epoch 82/100\n",
      "200/200 [==============================] - 3s 15ms/sample - loss: 2.0795 - accuracy: 0.1250 - val_loss: 2.0795 - val_accuracy: 0.1250\n",
      "Epoch 83/100\n",
      "200/200 [==============================] - 3s 15ms/sample - loss: 2.0796 - accuracy: 0.1250 - val_loss: 2.0795 - val_accuracy: 0.1250\n",
      "Epoch 84/100\n",
      "200/200 [==============================] - 3s 15ms/sample - loss: 2.0795 - accuracy: 0.1250 - val_loss: 2.0795 - val_accuracy: 0.1250\n",
      "Epoch 85/100\n",
      "200/200 [==============================] - 3s 15ms/sample - loss: 2.0795 - accuracy: 0.1250 - val_loss: 2.0795 - val_accuracy: 0.1250\n",
      "Epoch 86/100\n",
      "200/200 [==============================] - 3s 15ms/sample - loss: 2.0795 - accuracy: 0.1250 - val_loss: 2.0795 - val_accuracy: 0.1250\n",
      "Epoch 87/100\n",
      "200/200 [==============================] - 3s 15ms/sample - loss: 2.0795 - accuracy: 0.1250 - val_loss: 2.0795 - val_accuracy: 0.1250\n",
      "Epoch 88/100\n",
      "200/200 [==============================] - 3s 14ms/sample - loss: 2.0796 - accuracy: 0.1250 - val_loss: 2.0795 - val_accuracy: 0.1250\n",
      "Epoch 89/100\n",
      "200/200 [==============================] - 3s 15ms/sample - loss: 2.0795 - accuracy: 0.1250 - val_loss: 2.0795 - val_accuracy: 0.1250\n",
      "Epoch 90/100\n",
      "200/200 [==============================] - 3s 15ms/sample - loss: 2.0795 - accuracy: 0.1250 - val_loss: 2.0795 - val_accuracy: 0.1250\n",
      "Epoch 91/100\n",
      "200/200 [==============================] - 3s 14ms/sample - loss: 2.0796 - accuracy: 0.1250 - val_loss: 2.0795 - val_accuracy: 0.1250\n",
      "Epoch 92/100\n",
      "200/200 [==============================] - 3s 14ms/sample - loss: 2.0795 - accuracy: 0.1250 - val_loss: 2.0795 - val_accuracy: 0.1250\n",
      "Epoch 93/100\n",
      "200/200 [==============================] - 3s 15ms/sample - loss: 2.0795 - accuracy: 0.1250 - val_loss: 2.0795 - val_accuracy: 0.1250\n",
      "Epoch 94/100\n",
      "200/200 [==============================] - 3s 15ms/sample - loss: 2.0795 - accuracy: 0.1250 - val_loss: 2.0795 - val_accuracy: 0.1250\n",
      "Epoch 95/100\n",
      "200/200 [==============================] - 3s 15ms/sample - loss: 2.0795 - accuracy: 0.1250 - val_loss: 2.0795 - val_accuracy: 0.1250\n",
      "Epoch 96/100\n",
      "200/200 [==============================] - 3s 15ms/sample - loss: 2.0795 - accuracy: 0.1250 - val_loss: 2.0795 - val_accuracy: 0.1250\n",
      "Epoch 97/100\n",
      "200/200 [==============================] - 3s 15ms/sample - loss: 2.0795 - accuracy: 0.1250 - val_loss: 2.0795 - val_accuracy: 0.1250\n",
      "Epoch 98/100\n",
      "200/200 [==============================] - 3s 14ms/sample - loss: 2.0795 - accuracy: 0.1250 - val_loss: 2.0795 - val_accuracy: 0.1250\n",
      "Epoch 99/100\n",
      "200/200 [==============================] - 3s 14ms/sample - loss: 2.0795 - accuracy: 0.1250 - val_loss: 2.0795 - val_accuracy: 0.1250\n",
      "Epoch 100/100\n",
      "200/200 [==============================] - 3s 15ms/sample - loss: 2.0795 - accuracy: 0.1250 - val_loss: 2.0795 - val_accuracy: 0.1250\n"
     ]
    }
   ],
   "source": [
    "history = model.fit(train_images, train_labels, epochs=100,validation_data = (test_images,test_labels))"
   ]
  },
  {
   "cell_type": "code",
   "execution_count": 30,
   "metadata": {},
   "outputs": [
    {
     "data": {
      "text/plain": [
       "<matplotlib.legend.Legend at 0x7fe4948d1f28>"
      ]
     },
     "execution_count": 30,
     "metadata": {},
     "output_type": "execute_result"
    },
    {
     "data": {
      "image/png": "[encoded data removed]",
      "text/plain": [
       "<Figure size 432x288 with 1 Axes>"
      ]
     },
     "metadata": {
      "needs_background": "light"
     },
     "output_type": "display_data"
    }
   ],
   "source": [
    "plt.plot(history.history['accuracy'], label='accuracy')\n",
    "plt.plot(history.history['val_accuracy'], label = 'val_accuracy')\n",
    "plt.xlabel('Epoch')\n",
    "plt.ylabel('Accuracy')\n",
    "plt.ylim([0, 0.4])\n",
    "plt.title(\"Accuracy en train et validation en fonction du nombre d'epoch\")\n",
    "plt.legend(loc='lower right')"
   ]
  },
  {
   "cell_type": "code",
   "execution_count": 29,
   "metadata": {},
   "outputs": [
    {
     "data": {
      "text/plain": [
       "<matplotlib.legend.Legend at 0x7fe494979be0>"
      ]
     },
     "execution_count": 29,
     "metadata": {},
     "output_type": "execute_result"
    },
    {
     "data": {
      "image/png": "[encoded data removed]",
      "text/plain": [
       "<Figure size 432x288 with 1 Axes>"
      ]
     },
     "metadata": {
      "needs_background": "light"
     },
     "output_type": "display_data"
    }
   ],
   "source": [
    "plt.plot(history.history['loss'], label='loss')\n",
    "plt.plot(history.history['val_loss'], label = 'val_loss')\n",
    "plt.xlabel('Epoch')\n",
    "plt.ylabel('Loss')\n",
    "plt.ylim([1.5, 5])\n",
    "plt.title(\"Loss en train et validation en fonction du nombre d'epoch\")\n",
    "plt.legend(loc='lower right')"
   ]
  },
  {
   "cell_type": "markdown",
   "metadata": {},
   "source": [
    "Conclusion : avec ces données la, le réseau underfit"
   ]
  },
  {
   "cell_type": "code",
   "execution_count": null,
   "metadata": {},
   "outputs": [],
   "source": []
  }
 ],
 "metadata": {
  "kernelspec": {
   "display_name": "Python 3",
   "language": "python",
   "name": "python3"
  },
  "language_info": {
   "codemirror_mode": {
    "name": "ipython",
    "version": 3
   },
   "file_extension": ".py",
   "mimetype": "text/x-python",
   "name": "python",
   "nbconvert_exporter": "python",
   "pygments_lexer": "ipython3",
   "version": "3.8.5"
  }
 },
 "nbformat": 4,
 "nbformat_minor": 4
}
